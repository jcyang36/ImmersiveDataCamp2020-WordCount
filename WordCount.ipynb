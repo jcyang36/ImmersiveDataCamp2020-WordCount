{
 "cells": [
  {
   "cell_type": "code",
   "execution_count": 5,
   "metadata": {},
   "outputs": [],
   "source": [
    "def countWords():\n",
    "    filename=\"king.txt\"\n",
    "    with open(filename,encoding='utf-8') as f_obj:\n",
    "        contents=f_obj.read()\n",
    "    words = contents.split()\n",
    "    num_words=len(words)\n",
    "    \n",
    "    print(\"The file \"+filename+\" has \" +str(num_words)+\" words.\")\n",
    "    \n"
   ]
  },
  {
   "cell_type": "code",
   "execution_count": 6,
   "metadata": {},
   "outputs": [
    {
     "name": "stdout",
     "output_type": "stream",
     "text": [
      "The file king.txt has 272 words.\n"
     ]
    }
   ],
   "source": [
    "countWords()"
   ]
  },
  {
   "cell_type": "code",
   "execution_count": null,
   "metadata": {},
   "outputs": [],
   "source": []
  }
 ],
 "metadata": {
  "kernelspec": {
   "display_name": "Python 3",
   "language": "python",
   "name": "python3"
  },
  "language_info": {
   "codemirror_mode": {
    "name": "ipython",
    "version": 3
   },
   "file_extension": ".py",
   "mimetype": "text/x-python",
   "name": "python",
   "nbconvert_exporter": "python",
   "pygments_lexer": "ipython3",
   "version": "3.7.3"
  }
 },
 "nbformat": 4,
 "nbformat_minor": 2
}
